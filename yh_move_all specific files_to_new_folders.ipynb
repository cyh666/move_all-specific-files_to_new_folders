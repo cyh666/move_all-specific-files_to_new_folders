{
 "cells": [
  {
   "cell_type": "code",
   "execution_count": 52,
   "metadata": {
    "scrolled": true
   },
   "outputs": [
    {
     "name": "stdout",
     "output_type": "stream",
     "text": [
      "Job done!!!\n"
     ]
    }
   ],
   "source": [
    "import os\n",
    "import shutil\n",
    "\n",
    "wk_path=\"D:/06 書房電影廳\"  # Working folder\n",
    "des_path= \"D:/Destination/\"+str(wk_path)[3:]\n",
    "file_type= (\"mp3\",\"Mp3\")  # Target file type\n",
    "\n",
    "def batch_move(src_path, des_path):\n",
    "    # 將檔案在src_path路徑下，移至路徑des_path(如果沒有資料夾就新建)\n",
    "    for (dirpath, dirs, files) in os.walk(src_path):\n",
    "        for file in files:\n",
    "            src_path = str(dirpath)\n",
    "            des_path = \"D:/Destination/\"+str(dirpath)[3:]\n",
    "\n",
    "            if file.endswith(file_type):    \n",
    "#                print(\"src_path:\",src_path)\n",
    "#                print(\"des_path:\",des_path)\n",
    "#                print(os.path.join(src_path,file))\n",
    "                if not os.path.isdir(des_path):  #如果資料夾不存在就建立\n",
    "                    os.mkdir(des_path)\n",
    "                try:\n",
    "                    shutil.move(os.path.join(src_path,file),des_path)\n",
    "                    print(f'Moving {src_path}{file} to {des_path} ok!')\n",
    "                except:\n",
    "                    pass\n",
    "#                   os.rename(os.path.join(src_path, file), os.path.join(src_path, \"duplicated\"+file))\n",
    "#                   print(f'Duplicated file found!')   \n",
    "        for folder in dirs:\n",
    "            src_path = wk_path+folder\n",
    "            des_path = \"D:/Destination/\"+str(wk_path)[3:]+\"/\"+str(folder)\n",
    "            for file in files:\n",
    "#                print(f\"file in {dirpath}:\",file)\n",
    "                if file.endswith(file_type):\n",
    "#                    print(\"src_path:\",src_path)\n",
    "#                    print(\"des_path:\",des_path)\n",
    "#                    print(os.path.join(src_path,file))\n",
    "                    if not os.path.isdir(des_path):  #如果資料夾不存在就建立\n",
    "                        os.mkdir(des_path)\n",
    "                    try:\n",
    "                        shutil.move(os.path.join(src_path,file),des_path)\n",
    "                        print(f'Moving {src_path}{file} to {des_path} ok!')\n",
    "                    except:\n",
    "                        pass\n",
    "#                        os.rename(os.path.join(src_path, file), os.path.join(src_path, \"duplicated\"+file))\n",
    "#                       print(f'Duplicated file found!')  \n",
    "\n",
    "\n",
    "                    \n",
    "#        for folder in dirs:\n",
    "#            print(f\"folder in {dirpath}:\",folder)\n",
    "#            print(f\"des folder in {dirpath}:\", f\"{dirpath}\\destination\\{folder}\")\n",
    "#            batch_move(folder, f\"{dirpath}\\destination\\{folder}\")\n",
    "                        \n",
    "#            print(f\"file inside {dirpath} : {file}\")\n",
    "#            shutil.move(os.path.join(src_path, file), des_path)\n",
    "    \n",
    "batch_move(wk_path,des_path)\n",
    "print(\"Job done!!!\")"
   ]
  },
  {
   "cell_type": "code",
   "execution_count": null,
   "metadata": {},
   "outputs": [],
   "source": []
  }
 ],
 "metadata": {
  "kernelspec": {
   "display_name": "Python 3",
   "language": "python",
   "name": "python3"
  },
  "language_info": {
   "codemirror_mode": {
    "name": "ipython",
    "version": 3
   },
   "file_extension": ".py",
   "mimetype": "text/x-python",
   "name": "python",
   "nbconvert_exporter": "python",
   "pygments_lexer": "ipython3",
   "version": "3.7.0"
  }
 },
 "nbformat": 4,
 "nbformat_minor": 2
}
